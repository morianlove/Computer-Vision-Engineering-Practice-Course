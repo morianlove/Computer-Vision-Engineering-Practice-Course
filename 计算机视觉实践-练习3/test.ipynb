{
 "cells": [
  {
   "cell_type": "markdown",
   "id": "215b598d-63e5-4629-8f35-b4d9208ee286",
   "metadata": {},
   "source": [
    "# 使用自己训练的模型权重进行推理，并输出PSNR和SSIM"
   ]
  },
  {
   "cell_type": "code",
   "execution_count": null,
   "id": "6cac2639-5681-428a-bbb8-2972e1b9c31a",
   "metadata": {},
   "outputs": [],
   "source": [
    "import cv2\n",
    "import numpy as np\n",
    "import tensorflow as tf\n",
    "from skimage.metrics import peak_signal_noise_ratio, structural_similarity\n",
    "\n",
    "# 加载SRCNN模型\n",
    "def load_srcnn_model():\n",
    "    model = tf.keras.Sequential([\n",
    "        tf.keras.layers.Conv2D(64, (9, 9), activation='relu', padding='same', input_shape=(None, None, 3)),\n",
    "        tf.keras.layers.Conv2D(32, (1, 1), activation='relu', padding='same'),\n",
    "        tf.keras.layers.Conv2D(3, (5, 5), padding='same')\n",
    "    ])\n",
    "    return model\n",
    "\n",
    "\n"
   ]
  },
  {
   "cell_type": "markdown",
   "id": "e6f188bc-6edf-4aaa-85cb-30465ff3b35b",
   "metadata": {},
   "source": [
    "# 加载模型权重"
   ]
  },
  {
   "cell_type": "code",
   "execution_count": null,
   "id": "b6f7b069-7f26-4e6f-a365-8f2159b80777",
   "metadata": {},
   "outputs": [],
   "source": [
    "\n",
    "def load_model_weights(model, weights_path):\n",
    "    model.load_weights(weights_path)\n",
    "    return model\n"
   ]
  },
  {
   "cell_type": "markdown",
   "id": "aa014339-263c-4207-a218-e09e761bffd3",
   "metadata": {},
   "source": [
    "# 超分辨率推理"
   ]
  },
  {
   "cell_type": "code",
   "execution_count": null,
   "id": "b2937411-de50-4a31-8dc0-a155f8869ff6",
   "metadata": {},
   "outputs": [],
   "source": [
    "\n",
    "def super_resolution(model, image):\n",
    "    image = image / 255.0  # 归一化\n",
    "    image = np.expand_dims(image, axis=0)  # 扩展维度，变为4维张量\n",
    "    sr_image = model.predict(image)  # 预测超分辨率图像\n",
    "    sr_image = np.clip(sr_image, 0, 1) * 255.0  # 将图像像素值截断到 [0, 255] 范围内\n",
    "    sr_image = np.squeeze(sr_image, axis=0)  # 去除扩展的维度\n",
    "    return sr_image.astype(np.uint8)\n",
    "\n"
   ]
  },
  {
   "cell_type": "markdown",
   "id": "4cc795a3-62f5-4718-b754-845fe20a95c8",
   "metadata": {},
   "source": [
    "# 计算PSNR和SSIM指标值"
   ]
  },
  {
   "cell_type": "code",
   "execution_count": null,
   "id": "0fabbdc6-d60c-4b16-b1f2-807156b1522c",
   "metadata": {},
   "outputs": [],
   "source": [
    "\n",
    "def calculate_metrics(sr_image, hr_image):\n",
    "    psnr_value = peak_signal_noise_ratio(hr_image, sr_image,data_range=255)\n",
    "    ssim_value = structural_similarity(hr_image, sr_image, multichannel=True,data_range=255,channel_axis=2)\n",
    "    return psnr_value, ssim_value\n",
    "\n"
   ]
  },
  {
   "cell_type": "markdown",
   "id": "48ef8c83-b56c-4a5c-81c6-8c43a417c8a2",
   "metadata": {},
   "source": [
    "# 加载自己刚刚训练好的模型"
   ]
  },
  {
   "cell_type": "code",
   "execution_count": null,
   "id": "bf524a85-350b-499e-a2c0-396eb77b0cc1",
   "metadata": {},
   "outputs": [],
   "source": [
    "\n",
    "print(\"Loading SRCNN model...\")\n",
    "srcnn_model = load_srcnn_model()\n",
    "srcnn_model = load_model_weights(srcnn_model, \"srcnn.weights.h5\")\n",
    "\n"
   ]
  },
  {
   "cell_type": "markdown",
   "id": "13dd4972-d4a8-4c09-ba8a-1cfe72340bfc",
   "metadata": {},
   "source": [
    "# 读取测试图像（输入自己的图片）"
   ]
  },
  {
   "cell_type": "code",
   "execution_count": null,
   "id": "ebb3aa3a-ba14-4bfb-96c5-00c09ad3b8fd",
   "metadata": {},
   "outputs": [],
   "source": [
    "\n",
    "print(\"Loading test image...\")\n",
    "test_image_path = \"123.png\"\n",
    "test_image = cv2.imread(test_image_path)\n",
    "\n"
   ]
  },
  {
   "cell_type": "code",
   "execution_count": null,
   "id": "75c780f8-ef73-4097-b356-dce334c722b2",
   "metadata": {},
   "outputs": [],
   "source": [
    "# 超分辨率推理\n",
    "print(\"Upscaling test image...\")\n",
    "sr_image = super_resolution(srcnn_model, test_image)\n",
    "\n"
   ]
  },
  {
   "cell_type": "code",
   "execution_count": null,
   "id": "b61d276a-40e6-4b45-a3a1-7ffabf57ed01",
   "metadata": {},
   "outputs": [],
   "source": [
    "# 将hr_image调整为与sr_image相同大小\n",
    "hr_image = cv2.resize(test_image, (sr_image.shape[1], sr_image.shape[0]), interpolation=cv2.INTER_CUBIC)\n",
    "\n"
   ]
  },
  {
   "cell_type": "markdown",
   "id": "9ad9220d-f86b-466d-9293-4a06ef9647fb",
   "metadata": {},
   "source": [
    "# 计算PSNR和SSIM指标值"
   ]
  },
  {
   "cell_type": "code",
   "execution_count": null,
   "id": "1bb76b66-b2f7-40ee-bf88-c954c8294b12",
   "metadata": {},
   "outputs": [],
   "source": [
    "\n",
    "print(\"Calculating metrics...\")\n",
    "psnr_value, ssim_value = calculate_metrics(sr_image, hr_image)\n",
    "print(f\"\\nPSNR: {psnr_value:.2f} dB\")\n",
    "print(f\"SSIM: {ssim_value:.4f}\")\n"
   ]
  }
 ],
 "metadata": {
  "kernelspec": {
   "display_name": "Python 3 (ipykernel)",
   "language": "python",
   "name": "python3"
  },
  "language_info": {
   "codemirror_mode": {
    "name": "ipython",
    "version": 3
   },
   "file_extension": ".py",
   "mimetype": "text/x-python",
   "name": "python",
   "nbconvert_exporter": "python",
   "pygments_lexer": "ipython3",
   "version": "3.11.7"
  }
 },
 "nbformat": 4,
 "nbformat_minor": 5
}
