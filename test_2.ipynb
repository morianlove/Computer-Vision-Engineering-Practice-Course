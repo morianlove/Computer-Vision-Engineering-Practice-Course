{
 "cells": [
  {
   "cell_type": "markdown",
   "id": "3f2ddc55-c933-44b8-b98f-bad649b9e1b2",
   "metadata": {},
   "source": [
    "# 使用自己数据集训练的模型权重文件对所选图像进行超分辨处理"
   ]
  },
  {
   "cell_type": "code",
   "execution_count": null,
   "id": "b299f490-b356-4e19-a3a0-802f2fc8cad3",
   "metadata": {},
   "outputs": [],
   "source": [
    "import cv2\n",
    "import numpy as np\n",
    "import tensorflow as tf\n",
    "import os\n",
    "\n",
    "# 忽略TensorFlow的AVX警告\n",
    "os.environ['TF_CPP_MIN_LOG_LEVEL'] = '2'\n",
    "\n",
    "# 定义SRCNN模型\n",
    "def srcnn_model():\n",
    "    inputs = tf.keras.layers.Input(shape=(None, None, 3))\n",
    "    conv1 = tf.keras.layers.Conv2D(64, (9, 9), activation='relu', padding='same')(inputs)\n",
    "    conv2 = tf.keras.layers.Conv2D(32, (1, 1), activation='relu', padding='same')(conv1)\n",
    "    outputs = tf.keras.layers.Conv2D(3, (5, 5), padding='same')(conv2)\n",
    "    model = tf.keras.Model(inputs=inputs, outputs=outputs)\n",
    "    return model\n",
    "\n",
    "# 加载SRCNN模型权重\n",
    "def load_srcnn_weights(model, filename='srcnn.weights.h5'):#自己训练的模型权重文件\n",
    "    model.load_weights(filename)\n",
    "\n",
    "# 图像超分辨率处理函数\n",
    "def super_resolution(model, image):\n",
    "    # 将图像归一化到0-1之间\n",
    "    image = image / 255.0\n",
    "    # 对图像进行超分辨率处理\n",
    "    sr_image = model.predict(np.expand_dims(image, axis=0))[0]\n",
    "    # 将图像像素值还原到0-255之间\n",
    "    sr_image = np.clip(sr_image * 255.0, 0, 255).astype('uint8')\n",
    "    return sr_image\n",
    "\n",
    "if __name__ == \"__main__\":\n",
    "    # 加载模型\n",
    "    model = srcnn_model()\n",
    "    load_srcnn_weights(model)\n",
    "\n",
    "    # 加载模糊图像\n",
    "    blurry_image = cv2.imread('img_001.png')#想要进行超分辨处理的图像路径\n",
    "\n",
    "    # 进行超分辨率处理\n",
    "    sr_image = super_resolution(model, blurry_image)\n",
    "\n",
    "    # 显示结果\n",
    "    cv2.imshow('Blurry Image', blurry_image)#原图\n",
    "    cv2.imshow('Super-Resolved Image', sr_image)#超分辨处理之后的图像\n",
    "    cv2.waitKey(0)\n",
    "    cv2.destroyAllWindows()\n"
   ]
  }
 ],
 "metadata": {
  "kernelspec": {
   "display_name": "Python 3 (ipykernel)",
   "language": "python",
   "name": "python3"
  },
  "language_info": {
   "codemirror_mode": {
    "name": "ipython",
    "version": 3
   },
   "file_extension": ".py",
   "mimetype": "text/x-python",
   "name": "python",
   "nbconvert_exporter": "python",
   "pygments_lexer": "ipython3",
   "version": "3.11.7"
  }
 },
 "nbformat": 4,
 "nbformat_minor": 5
}
