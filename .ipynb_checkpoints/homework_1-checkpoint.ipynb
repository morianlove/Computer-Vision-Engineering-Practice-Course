{
 "cells": [
  {
   "cell_type": "markdown",
   "id": "ccafb267-92ca-4917-9d43-33eaf0a31b8d",
   "metadata": {},
   "source": [
    "# 找出图像所在的位置"
   ]
  },
  {
   "cell_type": "code",
   "execution_count": 1,
   "id": "61dd1fb8-326c-4484-b811-dc69530a063e",
   "metadata": {},
   "outputs": [
    {
     "name": "stdout",
     "output_type": "stream",
     "text": [
      "C:\\Users\\32995\\Music\\homework\\left.png\n",
      "C:\\Users\\32995\\Music\\homework\\right.png\n"
     ]
    }
   ],
   "source": [
    "import os\n",
    "import cv2\n",
    "file_name1=\"left.png\"\n",
    "abs_left_path=os.path.join(os.path.abspath('.'),file_name1)\n",
    "print(abs_left_path)\n",
    "file_name2=\"right.png\"\n",
    "abs_right_path=os.path.join(os.path.abspath('.'),file_name2)\n",
    "print(abs_right_path)"
   ]
  },
  {
   "cell_type": "code",
   "execution_count": 5,
   "id": "0c982a8f-ca05-449d-8975-54439291785a",
   "metadata": {},
   "outputs": [],
   "source": [
    "img1=cv2.imread(abs_left_path)\n",
    "img2=cv2.imread(abs_right_path)\n",
    "cv2.imshow('image',img1)\n",
    "cv2.imshow('image',img2)\n",
    "cv2.waitKey(0)\n",
    "cv2.destroyAllWindows()"
   ]
  },
  {
   "cell_type": "markdown",
   "id": "e4692a9a-21cf-40b2-88f1-353979b3f434",
   "metadata": {},
   "source": [
    "# 检测图像的关键特征点"
   ]
  },
  {
   "cell_type": "code",
   "execution_count": 3,
   "id": "de6b093d-1556-4b5e-b43f-26475d6df73d",
   "metadata": {},
   "outputs": [],
   "source": [
    "import cv2\n",
    "import numpy as np\n",
    "\n",
    "\n",
    "\n",
    "def sift_keypoints_detect(image):\n",
    "    gray_image = cv2.cvtColor(image, cv2.COLOR_BGR2GRAY)\n",
    "    sift = cv2.SIFT_create()\n",
    "    keypoints, features = sift.detectAndCompute(image, None)\n",
    "    keypoints_image = cv2.drawKeypoints(gray_image, keypoints, None,\n",
    "                                        flags=cv2.DRAW_MATCHES_FLAGS_NOT_DRAW_SINGLE_POINTS)\n",
    "    return keypoints_image, keypoints, features\n",
    "\n",
    "\n"
   ]
  },
  {
   "cell_type": "markdown",
   "id": "5547ca5b-01f4-42d6-a42d-de0e8541550f",
   "metadata": {},
   "source": [
    "# 使用KNN检测来自左右图像的SIFT特征进行匹配"
   ]
  },
  {
   "cell_type": "code",
   "execution_count": null,
   "id": "a64f7bf5-6c15-4400-865f-09762e4b3197",
   "metadata": {},
   "outputs": [],
   "source": [
    "\n",
    "def get_feature_point_ensemble(features_right, features_left):\n",
    "    bf = cv2.BFMatcher()\n",
    "    matches = bf.knnMatch(features_right, features_left, k=2)\n",
    "    matches = sorted(matches, key=lambda x: x[0].distance / x[1].distance)\n",
    "    good = []\n",
    "    for m, n in matches:\n",
    "        ratio = 0.6\n",
    "        if m.distance < ratio * n.distance:\n",
    "            good.append(m)\n",
    "    return good\n",
    "\n",
    "\n",
    "\n"
   ]
  },
  {
   "cell_type": "markdown",
   "id": "21381a74-755a-41b5-8f21-0c8a77faf2f1",
   "metadata": {},
   "source": [
    "# 计算视角变换矩阵H，用H对右图进行变换并返回全景拼接图像"
   ]
  },
  {
   "cell_type": "code",
   "execution_count": null,
   "id": "8663f703-9b8b-4827-8460-8426af86363e",
   "metadata": {},
   "outputs": [],
   "source": [
    "\n",
    "def Panorama_stitching(image_right, image_left):\n",
    "    _, keypoints_right, features_right = sift_keypoints_detect(image_right)\n",
    "    _, keypoints_left, features_left = sift_keypoints_detect(image_left)\n",
    "    goodMatch = get_feature_point_ensemble(features_right, features_left)\n",
    "\n",
    "    if len(goodMatch) > 4:\n",
    "        Point_coordinates_right = np.float32([keypoints_right[m.queryIdx].pt for m in goodMatch]).reshape(-1, 1, 2)\n",
    "        Point_coordinates_left = np.float32([keypoints_left[m.trainIdx].pt for m in goodMatch]).reshape(-1, 1, 2)\n",
    "        ransacReprojThreshold = 4\n",
    "        Homography, status = cv2.findHomography(Point_coordinates_right, Point_coordinates_left, cv2.RANSAC,\n",
    "                                                ransacReprojThreshold)\n",
    "\n",
    "        Panorama = cv2.warpPerspective(image_right, Homography,\n",
    "                                       (image_right.shape[1] + image_left.shape[1], image_right.shape[0]))\n",
    "        Panorama[0:image_left.shape[0], 0:image_left.shape[1]] = image_left\n",
    "        return Panorama\n",
    "\n",
    "\n",
    "if __name__ == '__main__':\n",
    "    image_left = cv2.imread(abs_left_path)\n",
    "    image_right = cv2.imread(abs_right_path)\n",
    "\n"
   ]
  },
  {
   "cell_type": "markdown",
   "id": "9a3e04f2-2c3e-4d6a-8118-b20438a50e1b",
   "metadata": {},
   "source": [
    "   # 调整图像的尺寸，并输出左侧和右侧图像的sift检测到的关键点"
   ]
  },
  {
   "cell_type": "code",
   "execution_count": null,
   "id": "ba41d6a3-4ee5-4ddc-a487-02fd3cdff1ba",
   "metadata": {},
   "outputs": [],
   "source": [
    " \n",
    "    image_right = cv2.resize(image_right, None, fx=2, fy=1.2)\n",
    "    image_left = cv2.resize(image_left, (image_right.shape[1], image_right.shape[0]))\n",
    "\n",
    "    keypoints_image_right, keypoints_right, features_right = sift_keypoints_detect(image_right)\n",
    "    keypoints_image_left, keypoints_left, features_left = sift_keypoints_detect(image_left)\n",
    "\n",
    "    cv2.imshow(\"keypoint_left\", np.hstack(\n",
    "        (cv2.resize(image_left, None, fx=0.5, fy=0.5), cv2.resize(keypoints_image_left, None, fx=0.5, fy=0.5))))\n",
    "    cv2.waitKey(0)\n",
    "    cv2.destroyAllWindows()\n",
    "\n",
    "    cv2.imshow(\"keypoint_right\", np.hstack(\n",
    "        (cv2.resize(image_right, None, fx=0.5, fy=0.5), cv2.resize(keypoints_image_right, None, fx=0.5, fy=0.5))))\n",
    "    cv2.waitKey(0)\n",
    "    cv2.destroyAllWindows()\n",
    "\n"
   ]
  },
  {
   "cell_type": "markdown",
   "id": "92c09283-8e9b-4838-b936-d4796c3a394e",
   "metadata": {},
   "source": [
    "# 输出两侧图像sift关键点的匹配"
   ]
  },
  {
   "cell_type": "code",
   "execution_count": null,
   "id": "d66a6289-a30b-4f1e-8d5a-e84f98a8de03",
   "metadata": {},
   "outputs": [],
   "source": [
    "    goodMatch = get_feature_point_ensemble(features_right, features_left)\n",
    "\n",
    "    all_goodmatch_image = cv2.drawMatches(image_right, keypoints_right, image_left, keypoints_left, goodMatch, None,\n",
    "                                          None, None, None, flags=2)\n",
    "    cv2.imshow(\"SIFT\", cv2.resize(all_goodmatch_image, None, fx=0.6, fy=0.6))\n",
    "    cv2.waitKey(0)\n",
    "    cv2.destroyAllWindows()\n"
   ]
  },
  {
   "cell_type": "markdown",
   "id": "3c2d5b0a-8a97-4b9f-a60a-8c234220cef3",
   "metadata": {},
   "source": [
    "# 最终输出图像的拼接效果"
   ]
  },
  {
   "cell_type": "code",
   "execution_count": null,
   "id": "c907e8f7-3789-4e9b-8f12-4c7c0c29a849",
   "metadata": {},
   "outputs": [],
   "source": [
    "\n",
    "    Panorama = Panorama_stitching(image_right, image_left)\n",
    "    cv2.namedWindow(\"Panoramic view\", cv2.WINDOW_AUTOSIZE)\n",
    "    cv2.imshow(\"Panoramic view\", cv2.resize(Panorama, None, fx=0.6, fy=0.6))\n",
    "    cv2.waitKey(0)\n",
    "    cv2.destroyAllWindows()"
   ]
  }
 ],
 "metadata": {
  "kernelspec": {
   "display_name": "Python 3 (ipykernel)",
   "language": "python",
   "name": "python3"
  },
  "language_info": {
   "codemirror_mode": {
    "name": "ipython",
    "version": 3
   },
   "file_extension": ".py",
   "mimetype": "text/x-python",
   "name": "python",
   "nbconvert_exporter": "python",
   "pygments_lexer": "ipython3",
   "version": "3.11.7"
  }
 },
 "nbformat": 4,
 "nbformat_minor": 5
}
