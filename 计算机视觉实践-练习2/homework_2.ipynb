{
 "cells": [
  {
   "cell_type": "markdown",
   "id": "a5599fb6-478a-48b7-a36f-691d0b2b1f1d",
   "metadata": {},
   "source": [
    "# 在mindspore框架下实现 LeNet-5 在MNIST数据集上的训练和测试，实验代码如下"
   ]
  },
  {
   "cell_type": "code",
   "execution_count": null,
   "id": "b57af473-5751-4173-a732-a80898b009ce",
   "metadata": {},
   "outputs": [],
   "source": [
    "import os\n",
    "import mindspore as ms\n",
    "import mindspore.dataset as ds\n",
    "import mindspore.dataset.vision.transforms as vision\n",
    "from mindspore import context, nn, Model\n",
    "from mindspore.nn.metrics import Accuracy\n",
    "from mindspore.common.initializer import TruncatedNormal\n",
    "from mindspore.nn.optim.momentum import Momentum\n",
    "import mindspore.dataset.transforms as transforms\n",
    "from mindspore.dataset import vision\n",
    "\n"
   ]
  },
  {
   "cell_type": "markdown",
   "id": "81cc80f9-ac99-426c-9f17-03192bd8a521",
   "metadata": {},
   "source": [
    "# 由于下载的mindspore版本是cpu版本，所以将训练设备设置为cpu"
   ]
  },
  {
   "cell_type": "code",
   "execution_count": null,
   "id": "78ed2a55-a289-4dfb-81e7-d9db47c48031",
   "metadata": {},
   "outputs": [],
   "source": [
    "# 设置设备为CPU\n",
    "context.set_context(mode=context.GRAPH_MODE, device_target=\"CPU\")\n",
    "\n",
    "# 数据集路径\n",
    "mnist_dataset_dir = r\"E:\\Pycharm\\pythonProject\\Le-Net-5\\mindspore\\MNIST\\raw\"\n",
    "\n",
    "# 定义数据集的文件目录结构\n",
    "\n",
    "\n",
    "label_trans = transforms.TypeCast(ms.int32)\n",
    "data_trans = ms.dataset.transforms.Compose([transforms.TypeCast(ms.float32), vision.HWC2CHW()])\n",
    "\n"
   ]
  },
  {
   "cell_type": "markdown",
   "id": "49386e7d-2d81-4c68-99cb-e283de2d880e",
   "metadata": {},
   "source": [
    "# 使用官方提供的数据集进行定义数据集 并且定义Le-Net-5模型"
   ]
  },
  {
   "cell_type": "code",
   "execution_count": null,
   "id": "e178b08e-adf6-4f88-9218-5ef49ccd48a1",
   "metadata": {},
   "outputs": [],
   "source": [
    "# 定义数据集\n",
    "def create_dataset(train=True):\n",
    "    if train:\n",
    "        return ds.MnistDataset(dataset_dir=mnist_dataset_dir, usage='train', shuffle=True).\\\n",
    "            map(operations=data_trans).batch(batch_size=4).map(operations=label_trans, input_columns=[\"label\"])\n",
    "    else:\n",
    "        return ds.MnistDataset(dataset_dir=mnist_dataset_dir, usage='test', shuffle=True).\\\n",
    "            map(operations=data_trans).batch(batch_size=4).map(operations=label_trans, input_columns=[\"label\"])\n",
    "\n",
    "# 定义LeNet-5模型\n",
    "class MyLeNet5(nn.Cell):\n",
    "    def __init__(self, num_class=10, num_channel=1):\n",
    "        super(MyLeNet5, self).__init__()\n",
    "        self.conv1 = nn.Conv2d(in_channels=num_channel, out_channels=6, kernel_size=5, padding=0, stride=1)\n",
    "        self.conv2 = nn.Conv2d(6, 16, 5, padding=0, stride=1)\n",
    "\n",
    "        self.fc1 = nn.Dense(784, 120, weight_init=TruncatedNormal(0.02))\n",
    "        self.fc2 = nn.Dense(120, 84, weight_init=TruncatedNormal(0.02))\n",
    "        self.fc3 = nn.Dense(84, num_class, weight_init=TruncatedNormal(0.02))\n",
    "\n",
    "        self.relu = nn.ReLU()\n",
    "        self.max_pool2d = nn.MaxPool2d(kernel_size=2, stride=2)\n",
    "        self.flatten = nn.Flatten()\n",
    "\n",
    "    def construct(self, x):\n",
    "        x = self.max_pool2d(self.relu(self.conv1(x)))\n",
    "        x = self.max_pool2d(self.relu(self.conv2(x)))\n",
    "        x = self.flatten(x)\n",
    "        x = self.relu(self.fc1(x))\n",
    "        x = self.relu(self.fc2(x))\n",
    "        x = self.fc3(x)\n",
    "        return x\n",
    "\n",
    "# 创建LeNet-5模型实例\n",
    "net = MyLeNet5()\n",
    "\n",
    "# 定义损失函数和优化器\n",
    "loss_fn = nn.SoftmaxCrossEntropyWithLogits(sparse=True, reduction='mean')\n",
    "optimizer = Momentum(net.trainable_params(), learning_rate=0.01, momentum=0.9)\n",
    "\n"
   ]
  },
  {
   "cell_type": "markdown",
   "id": "929b5336-0af2-4905-a8ab-a2c67f47dd88",
   "metadata": {},
   "source": [
    "#  创建模型、训练模型、测试模型"
   ]
  },
  {
   "cell_type": "code",
   "execution_count": null,
   "id": "293a7b60-eaff-4ba2-8c2f-a156a2254362",
   "metadata": {},
   "outputs": [],
   "source": [
    "\n",
    "model = Model(net, loss_fn, optimizer, metrics={'accuracy': Accuracy()})\n",
    "\n",
    "\n",
    "model.train(5, create_dataset(train=True))\n",
    "\n",
    "\n",
    "result = model.eval(create_dataset(train=False))\n",
    "print(\"Test Accuracy:\", result['accuracy'])\n"
   ]
  }
 ],
 "metadata": {
  "kernelspec": {
   "display_name": "Python 3 (ipykernel)",
   "language": "python",
   "name": "python3"
  },
  "language_info": {
   "codemirror_mode": {
    "name": "ipython",
    "version": 3
   },
   "file_extension": ".py",
   "mimetype": "text/x-python",
   "name": "python",
   "nbconvert_exporter": "python",
   "pygments_lexer": "ipython3",
   "version": "3.11.7"
  }
 },
 "nbformat": 4,
 "nbformat_minor": 5
}
