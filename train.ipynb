{
 "cells": [
  {
   "cell_type": "markdown",
   "id": "18e3f5dd-5b68-41b8-a8cd-0e64c854c6ce",
   "metadata": {},
   "source": [
    "# 训练自己的超分模型"
   ]
  },
  {
   "cell_type": "code",
   "execution_count": null,
   "id": "d591eda2-9592-4738-82d6-3821485a96e9",
   "metadata": {},
   "outputs": [],
   "source": [
    "import os\n",
    "import cv2\n",
    "import numpy as np\n",
    "import tensorflow as tf\n",
    "\n",
    "# 忽略TensorFlow的AVX警告\n",
    "os.environ['TF_CPP_MIN_LOG_LEVEL'] = '2'\n",
    "\n",
    "\n"
   ]
  },
  {
   "cell_type": "markdown",
   "id": "ecf02f0b-e05a-4682-93c5-f64e09ba2475",
   "metadata": {},
   "source": [
    "# 定义SRCNN模型"
   ]
  },
  {
   "cell_type": "code",
   "execution_count": null,
   "id": "9ebdb375-412f-4246-9223-c5bbfb0b473b",
   "metadata": {},
   "outputs": [],
   "source": [
    "\n",
    "def srcnn_model():\n",
    "    inputs = tf.keras.layers.Input(shape=(None, None, 3))\n",
    "    conv1 = tf.keras.layers.Conv2D(64, (9, 9), activation='relu', padding='same')(inputs)\n",
    "    conv2 = tf.keras.layers.Conv2D(32, (1, 1), activation='relu', padding='same')(conv1)\n",
    "    outputs = tf.keras.layers.Conv2D(3, (5, 5), padding='same')(conv2)\n",
    "    model = tf.keras.Model(inputs=inputs, outputs=outputs)\n",
    "    return model\n",
    "\n",
    "\n",
    "# 编译SRCNN模型\n",
    "def compile_srcnn_model(model):\n",
    "    model.compile(optimizer='adam', loss='mean_squared_error')\n",
    "\n",
    "\n",
    "# 加载Set5数据集\n",
    "def load_set5_dataset():\n",
    "    dataset_path = 'dataset'     #dataset就是你自己的数据集，训练的数据集。DIV2K、Flickr2K、BSDS500、COCO或者自建数据集\n",
    "    images = []\n",
    "    for filename in os.listdir(dataset_path):\n",
    "        if filename.endswith('.png'):\n",
    "            image_path = os.path.join(dataset_path, filename)\n",
    "            image = cv2.imread(image_path)\n",
    "            image = cv2.resize(image, (256, 256))  # 调整大小为相同的大小\n",
    "            images.append(image)\n",
    "    return np.array(images)\n",
    "\n",
    "\n",
    "# 训练SRCNN模型\n",
    "def train_srcnn_model(model, images, epochs=10, batch_size=16):\n",
    "    model.fit(images, images, epochs=epochs, batch_size=batch_size, verbose=1)\n",
    "\n",
    "\n",
    "# 保存SRCNN模型权重\n",
    "def save_srcnn_weights(model, filename='srcnn.weights.h5'):\n",
    "\n",
    "    model.save_weights(filename)\n",
    "\n"
   ]
  },
  {
   "cell_type": "markdown",
   "id": "6597ce01-ea6f-4978-89f9-f7b4b9c03ab4",
   "metadata": {},
   "source": [
    "# 主函数"
   ]
  },
  {
   "cell_type": "code",
   "execution_count": null,
   "id": "bc6c0fcb-00ad-4303-bbf7-db1f260f8924",
   "metadata": {},
   "outputs": [],
   "source": [
    "\n",
    "\n",
    "if __name__ == \"__main__\":\n",
    "    # 加载数据集\n",
    "    images = load_set5_dataset()\n",
    "\n",
    "    # 创建并编译SRCNN模型\n",
    "    model = srcnn_model()\n",
    "    compile_srcnn_model(model)\n",
    "\n",
    "    # 训练SRCNN模型\n",
    "    train_srcnn_model(model, images)\n",
    "\n",
    "    # 保存SRCNN模型权重\n",
    "    save_srcnn_weights(model)\n"
   ]
  }
 ],
 "metadata": {
  "kernelspec": {
   "display_name": "Python 3 (ipykernel)",
   "language": "python",
   "name": "python3"
  },
  "language_info": {
   "codemirror_mode": {
    "name": "ipython",
    "version": 3
   },
   "file_extension": ".py",
   "mimetype": "text/x-python",
   "name": "python",
   "nbconvert_exporter": "python",
   "pygments_lexer": "ipython3",
   "version": "3.11.7"
  }
 },
 "nbformat": 4,
 "nbformat_minor": 5
}
